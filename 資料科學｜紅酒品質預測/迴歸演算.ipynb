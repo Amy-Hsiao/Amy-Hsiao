{
 "cells": [
  {
   "cell_type": "markdown",
   "metadata": {},
   "source": [
    "# Polynomial Regression  \n",
    "dataset description: https://archive.ics.uci.edu/ml/datasets/wine+quality  "
   ]
  },
  {
   "cell_type": "code",
   "execution_count": 2,
   "metadata": {},
   "outputs": [
    {
     "name": "stdout",
     "output_type": "stream",
     "text": [
      "Coefficients: [ 0.08200646 -0.20998135 -0.05723026  0.02200518 -0.08577591  0.06220066\n",
      " -0.12252554 -0.06262475 -0.05913691  0.15225835  0.28696438]\n",
      "\n",
      "Mean squared error: 0.4147279618151044\n",
      "R2 score: 0.31860057760266947\n"
     ]
    }
   ],
   "source": [
    "import numpy as np\n",
    "from sklearn.model_selection import train_test_split\n",
    "import pandas as pd\n",
    "from sklearn import linear_model\n",
    "from sklearn import preprocessing\n",
    "from sklearn.preprocessing import PolynomialFeatures\n",
    "from sklearn.metrics import mean_squared_error, r2_score\n",
    "\n",
    "## 1. 使用pandas讀取 winequality-red.csv\n",
    "df = pd.read_csv('./dataset/winequality-red.csv')\n",
    "\n",
    "## 2.定義特徵向量X以及label y\n",
    "X = df.drop('quality',axis=1)\n",
    "y = df['quality']\n",
    "\n",
    "## 3.使用PolynomialFeatures將維度提高(假設degree=2)\n",
    "poly = PolynomialFeatures(degree=2, include_bias=False)\n",
    "X_poly = poly.fit_transform(X)\n",
    "\n",
    "\n",
    "X_train,X_test,y_train,y_test=train_test_split(X,y,test_size=0.3,random_state=1) #random_state 種子值\n",
    "\n",
    "\n",
    "## 4.標準化訓練資料\n",
    "scaler = preprocessing.StandardScaler().fit(X_train)\n",
    "X_train = scaler.transform(X_train)\n",
    "\n",
    "\n",
    "model = linear_model.LinearRegression()\n",
    "model.fit(X_train, y_train)\n",
    "\n",
    "## 5.標準化測試資料\n",
    "X_test = scaler.transform(X_test)\n",
    "\n",
    "y_pred = model.predict(X_test)\n",
    "\n",
    "# The coefficients\n",
    "print('Coefficients: {}\\n'.format(model.coef_))\n",
    "# The mean squared error\n",
    "print(\"Mean squared error: {}\".format(mean_squared_error(y_test, y_pred)))\n",
    "# Explained variance score: 1 is perfect prediction\n",
    "print('R2 score: {}'.format(r2_score(y_test, y_pred)))"
   ]
  },
  {
   "cell_type": "code",
   "execution_count": null,
   "metadata": {},
   "outputs": [],
   "source": []
  }
 ],
 "metadata": {
  "kernelspec": {
   "display_name": "Python 3 (ipykernel)",
   "language": "python",
   "name": "python3"
  },
  "language_info": {
   "codemirror_mode": {
    "name": "ipython",
    "version": 3
   },
   "file_extension": ".py",
   "mimetype": "text/x-python",
   "name": "python",
   "nbconvert_exporter": "python",
   "pygments_lexer": "ipython3",
   "version": "3.8.19"
  }
 },
 "nbformat": 4,
 "nbformat_minor": 4
}
